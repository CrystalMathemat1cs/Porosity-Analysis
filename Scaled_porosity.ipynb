{
 "cells": [
  {
   "cell_type": "code",
   "execution_count": 41,
   "metadata": {},
   "outputs": [],
   "source": [
    "import matplotlib.pyplot as plt\n",
    "import numpy as np\n",
    "from skimage import io\n",
    "from skimage.filters import threshold_otsu, sobel\n",
    "from skimage.segmentation import flood, flood_fill\n",
    "from glob import glob"
   ]
  },
  {
   "cell_type": "code",
   "execution_count": 42,
   "metadata": {},
   "outputs": [],
   "source": [
    "fileList = glob('*.jpg')\n",
    "images = []\n",
    "for i in range(5):   \n",
    "    image = io.imread(\"Batch 3-4 Co -20%/Sample 3B topcoat 0{:d} BSD.jpg\".format(i + 1))\n",
    "    images.append(image)"
   ]
  },
  {
   "cell_type": "code",
   "execution_count": 43,
   "metadata": {},
   "outputs": [],
   "source": [
    "def process(images):\n",
    "    row_of_black = np.zeros(images[0].shape[1])\n",
    "    row_of_gray = np.full(shape=images[0].shape[1], fill_value=170, dtype=np.int)\n",
    "    processed = []\n",
    "    for image in images:\n",
    "        image = image[:1760, :]\n",
    "        image = np.vstack([row_of_black, image])\n",
    "        image = np.vstack([image, row_of_gray])\n",
    "        image = flood_fill(image, (0,0), 255, tolerance=30)\n",
    "        image = flood_fill(image, (image.shape[0]-1, 0), 255, tolerance=40)\n",
    "\n",
    "        processed.append(image)\n",
    "    \n",
    "    return processed"
   ]
  },
  {
   "cell_type": "code",
   "execution_count": 44,
   "metadata": {},
   "outputs": [],
   "source": [
    "processed = process(images)"
   ]
  },
  {
   "cell_type": "code",
   "execution_count": 45,
   "metadata": {},
   "outputs": [],
   "source": [
    "def find_ysz_layer(images):\n",
    "    seed = (0,0)\n",
    "    \n",
    "    ysz_layers = []\n",
    "    for image in images:\n",
    "        img_sobel = sobel(image)\n",
    "        mask = flood(img_sobel, seed, tolerance = 0.01)\n",
    "        ysz_layers.append(mask)\n",
    "    \n",
    "    return ysz_layers"
   ]
  },
  {
   "cell_type": "code",
   "execution_count": 46,
   "metadata": {},
   "outputs": [],
   "source": [
    "ysz_layers = find_ysz_layer(processed)"
   ]
  },
  {
   "cell_type": "code",
   "execution_count": 47,
   "metadata": {},
   "outputs": [],
   "source": [
    "def apply_threshold(images, ysz_layers):\n",
    "    thresh_images = []\n",
    "    \n",
    "    for image, layer in zip(images, ysz_layers):\n",
    "        threshold = threshold_otsu(image)\n",
    "        thresh_image = []\n",
    "        \n",
    "        for pixel, masked_pixel in zip(image.flatten(), layer.flatten()):\n",
    "            if masked_pixel == False:\n",
    "                pixel = pixel > threshold\n",
    "                thresh_image.append(pixel)\n",
    "                \n",
    "        thresh_images.append(thresh_image)\n",
    "    \n",
    "    return thresh_images"
   ]
  },
  {
   "cell_type": "code",
   "execution_count": 48,
   "metadata": {},
   "outputs": [],
   "source": [
    "thresh_images = apply_threshold(processed, ysz_layers)"
   ]
  },
  {
   "cell_type": "code",
   "execution_count": 49,
   "metadata": {},
   "outputs": [],
   "source": [
    "def find_porosity(layers):\n",
    "    porosities = []\n",
    "    for layer in layers:\n",
    "        porosity = 100 * ((len(layer) - np.sum(layer)) / len(layer))\n",
    "        porosities.append(round(porosity, 2))\n",
    "    \n",
    "    return porosities"
   ]
  },
  {
   "cell_type": "code",
   "execution_count": 50,
   "metadata": {},
   "outputs": [
    {
     "name": "stdout",
     "output_type": "stream",
     "text": [
      "[13.86, 12.76, 12.53, 11.85, 11.26]\n"
     ]
    }
   ],
   "source": [
    "porosities = find_porosity(thresh_images)\n",
    "print(porosities)"
   ]
  }
 ],
 "metadata": {
  "kernelspec": {
   "display_name": "Python 3",
   "language": "python",
   "name": "python3"
  },
  "language_info": {
   "codemirror_mode": {
    "name": "ipython",
    "version": 3
   },
   "file_extension": ".py",
   "mimetype": "text/x-python",
   "name": "python",
   "nbconvert_exporter": "python",
   "pygments_lexer": "ipython3",
   "version": "3.8.3"
  }
 },
 "nbformat": 4,
 "nbformat_minor": 4
}
